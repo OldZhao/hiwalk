{
 "cells": [
  {
   "cell_type": "code",
   "execution_count": 1,
   "metadata": {
    "collapsed": true
   },
   "outputs": [],
   "source": [
    "import pandas as pd"
   ]
  },
  {
   "cell_type": "code",
   "execution_count": 2,
   "metadata": {
    "collapsed": false
   },
   "outputs": [
    {
     "data": {
      "text/html": [
       "<div>\n",
       "<table border=\"1\" class=\"dataframe\">\n",
       "  <thead>\n",
       "    <tr style=\"text-align: right;\">\n",
       "      <th></th>\n",
       "      <th>name</th>\n",
       "      <th>星期一</th>\n",
       "      <th>星期二</th>\n",
       "      <th>星期三</th>\n",
       "      <th>星期四</th>\n",
       "      <th>星期五</th>\n",
       "      <th>星期六</th>\n",
       "      <th>星期天</th>\n",
       "    </tr>\n",
       "  </thead>\n",
       "  <tbody>\n",
       "    <tr>\n",
       "      <th>0</th>\n",
       "      <td>黄健超</td>\n",
       "      <td>13936</td>\n",
       "      <td>10505</td>\n",
       "      <td>11520</td>\n",
       "      <td>14151</td>\n",
       "      <td>10175</td>\n",
       "      <td>8089</td>\n",
       "      <td>19832</td>\n",
       "    </tr>\n",
       "    <tr>\n",
       "      <th>1</th>\n",
       "      <td>李杰明</td>\n",
       "      <td>15806</td>\n",
       "      <td>16878</td>\n",
       "      <td>14415</td>\n",
       "      <td>15913</td>\n",
       "      <td>11490</td>\n",
       "      <td>17142</td>\n",
       "      <td>14244</td>\n",
       "    </tr>\n",
       "    <tr>\n",
       "      <th>2</th>\n",
       "      <td>蔡志刚</td>\n",
       "      <td>11903</td>\n",
       "      <td>10675</td>\n",
       "      <td>13070</td>\n",
       "      <td>9882</td>\n",
       "      <td>6850</td>\n",
       "      <td>10665</td>\n",
       "      <td>12272</td>\n",
       "    </tr>\n",
       "    <tr>\n",
       "      <th>3</th>\n",
       "      <td>袁露露</td>\n",
       "      <td>11864</td>\n",
       "      <td>10525</td>\n",
       "      <td>12496</td>\n",
       "      <td>15555</td>\n",
       "      <td>7870</td>\n",
       "      <td>8719</td>\n",
       "      <td>2998</td>\n",
       "    </tr>\n",
       "    <tr>\n",
       "      <th>4</th>\n",
       "      <td>朱丽飞</td>\n",
       "      <td>13132</td>\n",
       "      <td>16034</td>\n",
       "      <td>9865</td>\n",
       "      <td>10078</td>\n",
       "      <td>10422</td>\n",
       "      <td>11972</td>\n",
       "      <td>10292</td>\n",
       "    </tr>\n",
       "    <tr>\n",
       "      <th>5</th>\n",
       "      <td>王勇博</td>\n",
       "      <td>9223</td>\n",
       "      <td>10018</td>\n",
       "      <td>10090</td>\n",
       "      <td>10003</td>\n",
       "      <td>9486</td>\n",
       "      <td>10302</td>\n",
       "      <td>10194</td>\n",
       "    </tr>\n",
       "    <tr>\n",
       "      <th>6</th>\n",
       "      <td>张甜谨</td>\n",
       "      <td>8234</td>\n",
       "      <td>10634</td>\n",
       "      <td>10107</td>\n",
       "      <td>10777</td>\n",
       "      <td>10175</td>\n",
       "      <td>10110</td>\n",
       "      <td>10146</td>\n",
       "    </tr>\n",
       "    <tr>\n",
       "      <th>7</th>\n",
       "      <td>张术</td>\n",
       "      <td>10012</td>\n",
       "      <td>10347</td>\n",
       "      <td>6900</td>\n",
       "      <td>10281</td>\n",
       "      <td>7540</td>\n",
       "      <td>4387</td>\n",
       "      <td>4993</td>\n",
       "    </tr>\n",
       "    <tr>\n",
       "      <th>8</th>\n",
       "      <td>蒲勇飞</td>\n",
       "      <td>10263</td>\n",
       "      <td>9021</td>\n",
       "      <td>10292</td>\n",
       "      <td>10119</td>\n",
       "      <td>10225</td>\n",
       "      <td>7854</td>\n",
       "      <td>3501</td>\n",
       "    </tr>\n",
       "  </tbody>\n",
       "</table>\n",
       "</div>"
      ],
      "text/plain": [
       "  name    星期一    星期二    星期三    星期四    星期五    星期六    星期天\n",
       "0  黄健超  13936  10505  11520  14151  10175   8089  19832\n",
       "1  李杰明  15806  16878  14415  15913  11490  17142  14244\n",
       "2  蔡志刚  11903  10675  13070   9882   6850  10665  12272\n",
       "3  袁露露  11864  10525  12496  15555   7870   8719   2998\n",
       "4  朱丽飞  13132  16034   9865  10078  10422  11972  10292\n",
       "5  王勇博   9223  10018  10090  10003   9486  10302  10194\n",
       "6  张甜谨   8234  10634  10107  10777  10175  10110  10146\n",
       "7   张术  10012  10347   6900  10281   7540   4387   4993\n",
       "8  蒲勇飞  10263   9021  10292  10119  10225   7854   3501"
      ]
     },
     "execution_count": 2,
     "metadata": {},
     "output_type": "execute_result"
    }
   ],
   "source": [
    "walk = pd.read_excel('hiwalk.xlsx')\n",
    "walk.head(10)"
   ]
  },
  {
   "cell_type": "code",
   "execution_count": 3,
   "metadata": {
    "collapsed": false
   },
   "outputs": [
    {
     "data": {
      "text/html": [
       "<div>\n",
       "<table border=\"1\" class=\"dataframe\">\n",
       "  <thead>\n",
       "    <tr style=\"text-align: right;\">\n",
       "      <th></th>\n",
       "      <th>name</th>\n",
       "      <th>星期一</th>\n",
       "      <th>星期二</th>\n",
       "      <th>星期三</th>\n",
       "      <th>星期四</th>\n",
       "      <th>星期五</th>\n",
       "      <th>星期六</th>\n",
       "      <th>星期天</th>\n",
       "      <th>sum</th>\n",
       "    </tr>\n",
       "  </thead>\n",
       "  <tbody>\n",
       "    <tr>\n",
       "      <th>0</th>\n",
       "      <td>黄健超</td>\n",
       "      <td>13936</td>\n",
       "      <td>10505</td>\n",
       "      <td>11520</td>\n",
       "      <td>14151</td>\n",
       "      <td>10175</td>\n",
       "      <td>8089</td>\n",
       "      <td>19832</td>\n",
       "      <td>88208</td>\n",
       "    </tr>\n",
       "    <tr>\n",
       "      <th>1</th>\n",
       "      <td>李杰明</td>\n",
       "      <td>15806</td>\n",
       "      <td>16878</td>\n",
       "      <td>14415</td>\n",
       "      <td>15913</td>\n",
       "      <td>11490</td>\n",
       "      <td>17142</td>\n",
       "      <td>14244</td>\n",
       "      <td>105888</td>\n",
       "    </tr>\n",
       "    <tr>\n",
       "      <th>2</th>\n",
       "      <td>蔡志刚</td>\n",
       "      <td>11903</td>\n",
       "      <td>10675</td>\n",
       "      <td>13070</td>\n",
       "      <td>9882</td>\n",
       "      <td>6850</td>\n",
       "      <td>10665</td>\n",
       "      <td>12272</td>\n",
       "      <td>75317</td>\n",
       "    </tr>\n",
       "    <tr>\n",
       "      <th>3</th>\n",
       "      <td>袁露露</td>\n",
       "      <td>11864</td>\n",
       "      <td>10525</td>\n",
       "      <td>12496</td>\n",
       "      <td>15555</td>\n",
       "      <td>7870</td>\n",
       "      <td>8719</td>\n",
       "      <td>2998</td>\n",
       "      <td>70027</td>\n",
       "    </tr>\n",
       "    <tr>\n",
       "      <th>4</th>\n",
       "      <td>朱丽飞</td>\n",
       "      <td>13132</td>\n",
       "      <td>16034</td>\n",
       "      <td>9865</td>\n",
       "      <td>10078</td>\n",
       "      <td>10422</td>\n",
       "      <td>11972</td>\n",
       "      <td>10292</td>\n",
       "      <td>81795</td>\n",
       "    </tr>\n",
       "  </tbody>\n",
       "</table>\n",
       "</div>"
      ],
      "text/plain": [
       "  name    星期一    星期二    星期三    星期四    星期五    星期六    星期天     sum\n",
       "0  黄健超  13936  10505  11520  14151  10175   8089  19832   88208\n",
       "1  李杰明  15806  16878  14415  15913  11490  17142  14244  105888\n",
       "2  蔡志刚  11903  10675  13070   9882   6850  10665  12272   75317\n",
       "3  袁露露  11864  10525  12496  15555   7870   8719   2998   70027\n",
       "4  朱丽飞  13132  16034   9865  10078  10422  11972  10292   81795"
      ]
     },
     "execution_count": 3,
     "metadata": {},
     "output_type": "execute_result"
    }
   ],
   "source": [
    "walk['sum'] = walk.sum(axis=1)\n",
    "walk.head()"
   ]
  },
  {
   "cell_type": "code",
   "execution_count": 4,
   "metadata": {
    "collapsed": false
   },
   "outputs": [
    {
     "data": {
      "text/html": [
       "<div>\n",
       "<table border=\"1\" class=\"dataframe\">\n",
       "  <thead>\n",
       "    <tr style=\"text-align: right;\">\n",
       "      <th></th>\n",
       "      <th>name</th>\n",
       "      <th>星期一</th>\n",
       "      <th>星期二</th>\n",
       "      <th>星期三</th>\n",
       "      <th>星期四</th>\n",
       "      <th>星期五</th>\n",
       "      <th>星期六</th>\n",
       "      <th>星期天</th>\n",
       "      <th>sum</th>\n",
       "      <th>达标</th>\n",
       "    </tr>\n",
       "  </thead>\n",
       "  <tbody>\n",
       "    <tr>\n",
       "      <th>0</th>\n",
       "      <td>黄健超</td>\n",
       "      <td>13936</td>\n",
       "      <td>10505</td>\n",
       "      <td>11520</td>\n",
       "      <td>14151</td>\n",
       "      <td>10175</td>\n",
       "      <td>8089</td>\n",
       "      <td>19832</td>\n",
       "      <td>88208</td>\n",
       "      <td>6</td>\n",
       "    </tr>\n",
       "    <tr>\n",
       "      <th>1</th>\n",
       "      <td>李杰明</td>\n",
       "      <td>15806</td>\n",
       "      <td>16878</td>\n",
       "      <td>14415</td>\n",
       "      <td>15913</td>\n",
       "      <td>11490</td>\n",
       "      <td>17142</td>\n",
       "      <td>14244</td>\n",
       "      <td>105888</td>\n",
       "      <td>7</td>\n",
       "    </tr>\n",
       "    <tr>\n",
       "      <th>2</th>\n",
       "      <td>蔡志刚</td>\n",
       "      <td>11903</td>\n",
       "      <td>10675</td>\n",
       "      <td>13070</td>\n",
       "      <td>9882</td>\n",
       "      <td>6850</td>\n",
       "      <td>10665</td>\n",
       "      <td>12272</td>\n",
       "      <td>75317</td>\n",
       "      <td>5</td>\n",
       "    </tr>\n",
       "    <tr>\n",
       "      <th>3</th>\n",
       "      <td>袁露露</td>\n",
       "      <td>11864</td>\n",
       "      <td>10525</td>\n",
       "      <td>12496</td>\n",
       "      <td>15555</td>\n",
       "      <td>7870</td>\n",
       "      <td>8719</td>\n",
       "      <td>2998</td>\n",
       "      <td>70027</td>\n",
       "      <td>4</td>\n",
       "    </tr>\n",
       "    <tr>\n",
       "      <th>4</th>\n",
       "      <td>朱丽飞</td>\n",
       "      <td>13132</td>\n",
       "      <td>16034</td>\n",
       "      <td>9865</td>\n",
       "      <td>10078</td>\n",
       "      <td>10422</td>\n",
       "      <td>11972</td>\n",
       "      <td>10292</td>\n",
       "      <td>81795</td>\n",
       "      <td>6</td>\n",
       "    </tr>\n",
       "    <tr>\n",
       "      <th>5</th>\n",
       "      <td>王勇博</td>\n",
       "      <td>9223</td>\n",
       "      <td>10018</td>\n",
       "      <td>10090</td>\n",
       "      <td>10003</td>\n",
       "      <td>9486</td>\n",
       "      <td>10302</td>\n",
       "      <td>10194</td>\n",
       "      <td>69316</td>\n",
       "      <td>5</td>\n",
       "    </tr>\n",
       "    <tr>\n",
       "      <th>6</th>\n",
       "      <td>张甜谨</td>\n",
       "      <td>8234</td>\n",
       "      <td>10634</td>\n",
       "      <td>10107</td>\n",
       "      <td>10777</td>\n",
       "      <td>10175</td>\n",
       "      <td>10110</td>\n",
       "      <td>10146</td>\n",
       "      <td>70183</td>\n",
       "      <td>6</td>\n",
       "    </tr>\n",
       "    <tr>\n",
       "      <th>7</th>\n",
       "      <td>张术</td>\n",
       "      <td>10012</td>\n",
       "      <td>10347</td>\n",
       "      <td>6900</td>\n",
       "      <td>10281</td>\n",
       "      <td>7540</td>\n",
       "      <td>4387</td>\n",
       "      <td>4993</td>\n",
       "      <td>54460</td>\n",
       "      <td>3</td>\n",
       "    </tr>\n",
       "    <tr>\n",
       "      <th>8</th>\n",
       "      <td>蒲勇飞</td>\n",
       "      <td>10263</td>\n",
       "      <td>9021</td>\n",
       "      <td>10292</td>\n",
       "      <td>10119</td>\n",
       "      <td>10225</td>\n",
       "      <td>7854</td>\n",
       "      <td>3501</td>\n",
       "      <td>61275</td>\n",
       "      <td>4</td>\n",
       "    </tr>\n",
       "  </tbody>\n",
       "</table>\n",
       "</div>"
      ],
      "text/plain": [
       "  name    星期一    星期二    星期三    星期四    星期五    星期六    星期天     sum  达标\n",
       "0  黄健超  13936  10505  11520  14151  10175   8089  19832   88208   6\n",
       "1  李杰明  15806  16878  14415  15913  11490  17142  14244  105888   7\n",
       "2  蔡志刚  11903  10675  13070   9882   6850  10665  12272   75317   5\n",
       "3  袁露露  11864  10525  12496  15555   7870   8719   2998   70027   4\n",
       "4  朱丽飞  13132  16034   9865  10078  10422  11972  10292   81795   6\n",
       "5  王勇博   9223  10018  10090  10003   9486  10302  10194   69316   5\n",
       "6  张甜谨   8234  10634  10107  10777  10175  10110  10146   70183   6\n",
       "7   张术  10012  10347   6900  10281   7540   4387   4993   54460   3\n",
       "8  蒲勇飞  10263   9021  10292  10119  10225   7854   3501   61275   4"
      ]
     },
     "execution_count": 4,
     "metadata": {},
     "output_type": "execute_result"
    }
   ],
   "source": [
    "good_days = walk[walk.columns[1:-1]] >= 10000\n",
    "good_count = good_days.sum(axis=1)\n",
    "\n",
    "walk['达标'] = good_count\n",
    "walk.head(10)"
   ]
  },
  {
   "cell_type": "code",
   "execution_count": 5,
   "metadata": {
    "collapsed": false
   },
   "outputs": [
    {
     "data": {
      "text/html": [
       "<div>\n",
       "<table border=\"1\" class=\"dataframe\">\n",
       "  <thead>\n",
       "    <tr style=\"text-align: right;\">\n",
       "      <th></th>\n",
       "      <th>name</th>\n",
       "      <th>星期一</th>\n",
       "      <th>星期二</th>\n",
       "      <th>星期三</th>\n",
       "      <th>星期四</th>\n",
       "      <th>星期五</th>\n",
       "      <th>星期六</th>\n",
       "      <th>星期天</th>\n",
       "      <th>sum</th>\n",
       "      <th>达标</th>\n",
       "    </tr>\n",
       "  </thead>\n",
       "  <tbody>\n",
       "    <tr>\n",
       "      <th>1</th>\n",
       "      <td>李杰明</td>\n",
       "      <td>15806</td>\n",
       "      <td>16878</td>\n",
       "      <td>14415</td>\n",
       "      <td>15913</td>\n",
       "      <td>11490</td>\n",
       "      <td>17142</td>\n",
       "      <td>14244</td>\n",
       "      <td>105888</td>\n",
       "      <td>7</td>\n",
       "    </tr>\n",
       "    <tr>\n",
       "      <th>0</th>\n",
       "      <td>黄健超</td>\n",
       "      <td>13936</td>\n",
       "      <td>10505</td>\n",
       "      <td>11520</td>\n",
       "      <td>14151</td>\n",
       "      <td>10175</td>\n",
       "      <td>8089</td>\n",
       "      <td>19832</td>\n",
       "      <td>88208</td>\n",
       "      <td>6</td>\n",
       "    </tr>\n",
       "    <tr>\n",
       "      <th>4</th>\n",
       "      <td>朱丽飞</td>\n",
       "      <td>13132</td>\n",
       "      <td>16034</td>\n",
       "      <td>9865</td>\n",
       "      <td>10078</td>\n",
       "      <td>10422</td>\n",
       "      <td>11972</td>\n",
       "      <td>10292</td>\n",
       "      <td>81795</td>\n",
       "      <td>6</td>\n",
       "    </tr>\n",
       "    <tr>\n",
       "      <th>2</th>\n",
       "      <td>蔡志刚</td>\n",
       "      <td>11903</td>\n",
       "      <td>10675</td>\n",
       "      <td>13070</td>\n",
       "      <td>9882</td>\n",
       "      <td>6850</td>\n",
       "      <td>10665</td>\n",
       "      <td>12272</td>\n",
       "      <td>75317</td>\n",
       "      <td>5</td>\n",
       "    </tr>\n",
       "    <tr>\n",
       "      <th>6</th>\n",
       "      <td>张甜谨</td>\n",
       "      <td>8234</td>\n",
       "      <td>10634</td>\n",
       "      <td>10107</td>\n",
       "      <td>10777</td>\n",
       "      <td>10175</td>\n",
       "      <td>10110</td>\n",
       "      <td>10146</td>\n",
       "      <td>70183</td>\n",
       "      <td>6</td>\n",
       "    </tr>\n",
       "  </tbody>\n",
       "</table>\n",
       "</div>"
      ],
      "text/plain": [
       "  name    星期一    星期二    星期三    星期四    星期五    星期六    星期天     sum  达标\n",
       "1  李杰明  15806  16878  14415  15913  11490  17142  14244  105888   7\n",
       "0  黄健超  13936  10505  11520  14151  10175   8089  19832   88208   6\n",
       "4  朱丽飞  13132  16034   9865  10078  10422  11972  10292   81795   6\n",
       "2  蔡志刚  11903  10675  13070   9882   6850  10665  12272   75317   5\n",
       "6  张甜谨   8234  10634  10107  10777  10175  10110  10146   70183   6"
      ]
     },
     "execution_count": 5,
     "metadata": {},
     "output_type": "execute_result"
    }
   ],
   "source": [
    "walk = walk.sort_values(by='sum', ascending=False)\n",
    "walk.head()"
   ]
  },
  {
   "cell_type": "code",
   "execution_count": 6,
   "metadata": {
    "collapsed": false
   },
   "outputs": [
    {
     "data": {
      "text/plain": [
       "(9, 10)"
      ]
     },
     "execution_count": 6,
     "metadata": {},
     "output_type": "execute_result"
    }
   ],
   "source": [
    "walk.shape"
   ]
  },
  {
   "cell_type": "code",
   "execution_count": 7,
   "metadata": {
    "collapsed": false
   },
   "outputs": [
    {
     "name": "stdout",
     "output_type": "stream",
     "text": [
      "labels: ['李杰明','黄健超','朱丽飞','蔡志刚','张甜谨','袁露露','王勇博','蒲勇飞','张术']\n"
     ]
    }
   ],
   "source": [
    "peoples = '\\',\\''.join(walk.name)\n",
    "js_str = u'labels: [\\'' + peoples + '\\']'\n",
    "print(js_str)"
   ]
  },
  {
   "cell_type": "code",
   "execution_count": 8,
   "metadata": {
    "collapsed": false
   },
   "outputs": [],
   "source": [
    "colors = ['red', 'blue', 'green', 'yellow', 'Purple', 'orange', 'gray']"
   ]
  },
  {
   "cell_type": "code",
   "execution_count": 9,
   "metadata": {
    "collapsed": false
   },
   "outputs": [
    {
     "name": "stdout",
     "output_type": "stream",
     "text": [
      "星期一\n",
      "[15806, 13936, 13132, 11903, 8234, 11864, 9223, 10263, 10012]\n",
      "星期二\n",
      "[16878, 10505, 16034, 10675, 10634, 10525, 10018, 9021, 10347]\n",
      "星期三\n",
      "[14415, 11520, 9865, 13070, 10107, 12496, 10090, 10292, 6900]\n",
      "星期四\n",
      "[15913, 14151, 10078, 9882, 10777, 15555, 10003, 10119, 10281]\n",
      "星期五\n",
      "[11490, 10175, 10422, 6850, 10175, 7870, 9486, 10225, 7540]\n",
      "星期六\n",
      "[17142, 8089, 11972, 10665, 10110, 8719, 10302, 7854, 4387]\n",
      "星期天\n",
      "[14244, 19832, 10292, 12272, 10146, 2998, 10194, 3501, 4993]\n",
      "{label:'星期一',backgroundColor: window.chartColors.red,data:[15806, 13936, 13132, 11903, 8234, 11864, 9223, 10263, 10012]},{label:'星期二',backgroundColor: window.chartColors.blue,data:[16878, 10505, 16034, 10675, 10634, 10525, 10018, 9021, 10347]},{label:'星期三',backgroundColor: window.chartColors.green,data:[14415, 11520, 9865, 13070, 10107, 12496, 10090, 10292, 6900]},{label:'星期四',backgroundColor: window.chartColors.yellow,data:[15913, 14151, 10078, 9882, 10777, 15555, 10003, 10119, 10281]},{label:'星期五',backgroundColor: window.chartColors.Purple,data:[11490, 10175, 10422, 6850, 10175, 7870, 9486, 10225, 7540]},{label:'星期六',backgroundColor: window.chartColors.orange,data:[17142, 8089, 11972, 10665, 10110, 8719, 10302, 7854, 4387]},{label:'星期天',backgroundColor: window.chartColors.gray,data:[14244, 19832, 10292, 12272, 10146, 2998, 10194, 3501, 4993]}\n"
     ]
    }
   ],
   "source": [
    "walk_str = u''\n",
    "\n",
    "for idx, day in enumerate(walk.columns[1:-2]):\n",
    "    print(day)\n",
    "    \n",
    "    day_pd = walk[day]\n",
    "    walk_num = day_pd.tolist()\n",
    "    walk_num = str(walk_num)\n",
    "    print(walk_num)\n",
    "    walk_str += u'{' + u'label:\\'' + day + u'\\',backgroundColor: window.chartColors.' + colors[idx] + ',' +'data:' + walk_num + '},'\n",
    "   \n",
    "walk_str = walk_str[:-1]\n",
    "print(walk_str)"
   ]
  },
  {
   "cell_type": "code",
   "execution_count": 10,
   "metadata": {
    "collapsed": false
   },
   "outputs": [
    {
     "name": "stdout",
     "output_type": "stream",
     "text": [
      "labels: ['李杰明','黄健超','朱丽飞','蔡志刚','张甜谨','袁露露','王勇博','蒲勇飞','张术'],datasets:[{label:'星期一',backgroundColor: window.chartColors.red,data:[15806, 13936, 13132, 11903, 8234, 11864, 9223, 10263, 10012]},{label:'星期二',backgroundColor: window.chartColors.blue,data:[16878, 10505, 16034, 10675, 10634, 10525, 10018, 9021, 10347]},{label:'星期三',backgroundColor: window.chartColors.green,data:[14415, 11520, 9865, 13070, 10107, 12496, 10090, 10292, 6900]},{label:'星期四',backgroundColor: window.chartColors.yellow,data:[15913, 14151, 10078, 9882, 10777, 15555, 10003, 10119, 10281]},{label:'星期五',backgroundColor: window.chartColors.Purple,data:[11490, 10175, 10422, 6850, 10175, 7870, 9486, 10225, 7540]},{label:'星期六',backgroundColor: window.chartColors.orange,data:[17142, 8089, 11972, 10665, 10110, 8719, 10302, 7854, 4387]},{label:'星期天',backgroundColor: window.chartColors.gray,data:[14244, 19832, 10292, 12272, 10146, 2998, 10194, 3501, 4993]}]\n"
     ]
    }
   ],
   "source": [
    "all_str = js_str + u',' + 'datasets:[' + walk_str + ']'\n",
    "print(all_str)"
   ]
  },
  {
   "cell_type": "code",
   "execution_count": 11,
   "metadata": {
    "collapsed": false
   },
   "outputs": [
    {
     "name": "stdout",
     "output_type": "stream",
     "text": [
      "labels: ['李杰明','黄健超','朱丽飞','蔡志刚','张甜谨','袁露露','王勇博','蒲勇飞','张术'],datasets:[{label:'达标',backgroundColor: window.chartColors.greed,data:[7, 6, 6, 5, 6, 4, 5, 4, 3]},{label:'不达标',backgroundColor: window.chartColors.red,data:[0, 1, 1, 2, 1, 3, 2, 3, 4]}]\n"
     ]
    }
   ],
   "source": [
    "stander_str = u''\n",
    "\n",
    "stander = walk['达标']\n",
    "under_stander = walk.shape[1] - stander - 3\n",
    "stander_str = u''\n",
    "stander_str += u'{' + u'label:\\'达标'  + u'\\',backgroundColor: window.chartColors.greed'  + ',' +'data:' + str(stander.tolist())+ '},'\n",
    "stander_str += u'{' + u'label:\\'不达标'  + u'\\',backgroundColor: window.chartColors.red'  + ',' +'data:' + str(under_stander.tolist()) + '}'\n",
    "\n",
    "# print(stander_str)\n",
    "all_str = js_str + u',' + 'datasets:[' + stander_str + ']'\n",
    "print(all_str)"
   ]
  },
  {
   "cell_type": "code",
   "execution_count": null,
   "metadata": {
    "collapsed": true
   },
   "outputs": [],
   "source": []
  },
  {
   "cell_type": "code",
   "execution_count": null,
   "metadata": {
    "collapsed": true
   },
   "outputs": [],
   "source": []
  },
  {
   "cell_type": "code",
   "execution_count": null,
   "metadata": {
    "collapsed": true
   },
   "outputs": [],
   "source": []
  }
 ],
 "metadata": {
  "anaconda-cloud": {},
  "kernelspec": {
   "display_name": "Python [default]",
   "language": "python",
   "name": "python2"
  },
  "language_info": {
   "codemirror_mode": {
    "name": "ipython",
    "version": 2
   },
   "file_extension": ".py",
   "mimetype": "text/x-python",
   "name": "python",
   "nbconvert_exporter": "python",
   "pygments_lexer": "ipython2",
   "version": "2.7.12"
  }
 },
 "nbformat": 4,
 "nbformat_minor": 1
}
